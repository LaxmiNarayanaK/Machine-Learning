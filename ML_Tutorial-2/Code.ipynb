{
 "cells": [
  {
   "cell_type": "code",
   "execution_count": 1,
   "metadata": {},
   "outputs": [],
   "source": [
    "import numpy as np\n",
    "import matplotlib.pyplot as plt\n",
    "\n",
    "x = [1,2,3]\n",
    "t = [1.2,1.9,3.2]"
   ]
  },
  {
   "cell_type": "code",
   "execution_count": 3,
   "metadata": {},
   "outputs": [],
   "source": [
    "   def parameters(x,y):\n",
    "    A = np.sum(x)\n",
    "    B = np.sum(y)\n",
    "    C = np.dot(x,x)\n",
    "    D = np.dot(x,y)\n",
    "    N = len(x)\n",
    "    \n",
    "    w1 = (B*A-D*N)/(A**2 - C*N)\n",
    "    w0 = (D - w1*C)/A\n",
    "    return (w1,w0)"
   ]
  },
  {
   "cell_type": "code",
   "execution_count": 5,
   "metadata": {},
   "outputs": [
    {
     "data": {
      "text/plain": [
       "[<matplotlib.lines.Line2D at 0x150054a5cd0>]"
      ]
     },
     "execution_count": 5,
     "metadata": {},
     "output_type": "execute_result"
    },
    {
     "data": {
      "image/png": "[encoded data removed]",
      "text/plain": [
       "<Figure size 432x288 with 1 Axes>"
      ]
     },
     "metadata": {
      "needs_background": "light"
     },
     "output_type": "display_data"
    }
   ],
   "source": [
    "slope,intercept = parameters(x,t)\n",
    "y_eqt = []\n",
    "for i in range(len(x)):\n",
    "    y_eqt.append(slope*x[i] + intercept)\n",
    "plt.scatter(x,t,)\n",
    "plt.plot(x,y_eqt,\"g-\")"
   ]
  },
  {
   "cell_type": "code",
   "execution_count": null,
   "metadata": {},
   "outputs": [],
   "source": []
  }
 ],
 "metadata": {
  "kernelspec": {
   "display_name": "Python 3",
   "language": "python",
   "name": "python3"
  },
  "language_info": {
   "codemirror_mode": {
    "name": "ipython",
    "version": 3
   },
   "file_extension": ".py",
   "mimetype": "text/x-python",
   "name": "python",
   "nbconvert_exporter": "python",
   "pygments_lexer": "ipython3",
   "version": "3.8.5"
  }
 },
 "nbformat": 4,
 "nbformat_minor": 4
}
